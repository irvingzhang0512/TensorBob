{
 "cells": [
  {
   "cell_type": "code",
   "execution_count": 1,
   "metadata": {},
   "outputs": [],
   "source": [
    "import sys\n",
    "import tensorflow as tf\n",
    "sys.path.append(\"/home/ubuntu/bob/Tensorbob\")\n",
    "sys.path.append(\"/home/ubuntu/bob/models/research/slim\")\n",
    "import tensorbob as bob\n",
    "import pandas as pd\n",
    "import numpy as np\n",
    "import os\n",
    "import tensorflow.contrib.slim as slim"
   ]
  },
  {
   "cell_type": "code",
   "execution_count": 2,
   "metadata": {},
   "outputs": [],
   "source": [
    "DOG_BREED_ROOT = \"/home/ubuntu/data/kaggle/dogbreed/\"\n",
    "LABELS_FILE = os.path.join(DOG_BREED_ROOT, 'labels.csv')\n",
    "TRAIN_DIR = os.path.join(DOG_BREED_ROOT, 'train')\n",
    "TEST_DIR = os.path.join(DOG_BREED_ROOT, 'test')\n",
    "SAMPLE_FILE = os.path.join(DOG_BREED_ROOT, 'sample_submission.csv')"
   ]
  },
  {
   "cell_type": "code",
   "execution_count": 3,
   "metadata": {},
   "outputs": [
    {
     "data": {
      "text/html": [
       "<div>\n",
       "<style scoped>\n",
       "    .dataframe tbody tr th:only-of-type {\n",
       "        vertical-align: middle;\n",
       "    }\n",
       "\n",
       "    .dataframe tbody tr th {\n",
       "        vertical-align: top;\n",
       "    }\n",
       "\n",
       "    .dataframe thead th {\n",
       "        text-align: right;\n",
       "    }\n",
       "</style>\n",
       "<table border=\"1\" class=\"dataframe\">\n",
       "  <thead>\n",
       "    <tr style=\"text-align: right;\">\n",
       "      <th></th>\n",
       "      <th>id</th>\n",
       "      <th>breed</th>\n",
       "    </tr>\n",
       "  </thead>\n",
       "  <tbody>\n",
       "    <tr>\n",
       "      <th>0</th>\n",
       "      <td>000bec180eb18c7604dcecc8fe0dba07</td>\n",
       "      <td>boston_bull</td>\n",
       "    </tr>\n",
       "    <tr>\n",
       "      <th>1</th>\n",
       "      <td>001513dfcb2ffafc82cccf4d8bbaba97</td>\n",
       "      <td>dingo</td>\n",
       "    </tr>\n",
       "    <tr>\n",
       "      <th>2</th>\n",
       "      <td>001cdf01b096e06d78e9e5112d419397</td>\n",
       "      <td>pekinese</td>\n",
       "    </tr>\n",
       "    <tr>\n",
       "      <th>3</th>\n",
       "      <td>00214f311d5d2247d5dfe4fe24b2303d</td>\n",
       "      <td>bluetick</td>\n",
       "    </tr>\n",
       "    <tr>\n",
       "      <th>4</th>\n",
       "      <td>0021f9ceb3235effd7fcde7f7538ed62</td>\n",
       "      <td>golden_retriever</td>\n",
       "    </tr>\n",
       "  </tbody>\n",
       "</table>\n",
       "</div>"
      ],
      "text/plain": [
       "                                 id             breed\n",
       "0  000bec180eb18c7604dcecc8fe0dba07       boston_bull\n",
       "1  001513dfcb2ffafc82cccf4d8bbaba97             dingo\n",
       "2  001cdf01b096e06d78e9e5112d419397          pekinese\n",
       "3  00214f311d5d2247d5dfe4fe24b2303d          bluetick\n",
       "4  0021f9ceb3235effd7fcde7f7538ed62  golden_retriever"
      ]
     },
     "execution_count": 3,
     "metadata": {},
     "output_type": "execute_result"
    }
   ],
   "source": [
    "df = pd.read_csv(LABELS_FILE)\n",
    "df.head()"
   ]
  },
  {
   "cell_type": "code",
   "execution_count": 4,
   "metadata": {},
   "outputs": [],
   "source": [
    "n = len(df)\n",
    "breed = set(df['breed'])\n",
    "n_class = len(breed)\n",
    "class_to_num = dict(zip(breed, range(n_class)))\n",
    "num_to_class = dict(zip(range(n_class), breed))"
   ]
  },
  {
   "cell_type": "code",
   "execution_count": 5,
   "metadata": {},
   "outputs": [],
   "source": [
    "TRAIN_IMAGES = [os.path.join(TRAIN_DIR, df['id'][i]+'.jpg') for i in range(n)]\n",
    "LABELS = [class_to_num[df['breed'][i]]  for i in range(n)]"
   ]
  },
  {
   "cell_type": "code",
   "execution_count": 6,
   "metadata": {},
   "outputs": [
    {
     "data": {
      "text/plain": [
       "10222"
      ]
     },
     "execution_count": 6,
     "metadata": {},
     "output_type": "execute_result"
    }
   ],
   "source": [
    "num_classes = 120\n",
    "log_every_n_step = 10\n",
    "number_of_steps = 4400\n",
    "batch_size = 64\n",
    "learning_rate = 0.001\n",
    "image_size = 224\n",
    "\n",
    "kwargs = {'image_width': image_size,\n",
    "          'image_height': image_size, \n",
    "          'norm_fn': bob.data.norm_imagenet, \n",
    "          'crop_width': image_size, \n",
    "          'crop_height': image_size, \n",
    "          'central_crop_flag': False, \n",
    "          'random_flip_horizontal_flag': True, \n",
    "          'random_flip_vertical_flag': True} \n",
    "\n",
    "def get_dog_breed_dataset(images=TRAIN_IMAGES, labels=LABELS, batch_size=32, **kwargs):\n",
    "    images_config = bob.data.get_image_by_path_dataset_config(images, **kwargs)\n",
    "    labels_config = bob.data.get_labels_dataset_config(labels)\n",
    "    dataset_configs = [images_config, labels_config]\n",
    "    return bob.data.BaseDataset(dataset_configs, batch_size, repeat=True)\n",
    "\n",
    "train_dataset = get_dog_breed_dataset(batch_size=batch_size, **kwargs)\n",
    "train_dataset.size"
   ]
  },
  {
   "cell_type": "code",
   "execution_count": 7,
   "metadata": {},
   "outputs": [],
   "source": [
    "import nets.vgg as vgg\n",
    "\n",
    "ph_images = tf.placeholder(tf.float32, [None, image_size, image_size, 3])\n",
    "ph_labels = tf.placeholder(tf.int32, [None])\n",
    "ph_is_training = tf.placeholder(tf.bool)\n",
    "with bob.arg_scope(vgg.vgg_arg_scope()):\n",
    "    logits, end_points = vgg.vgg_16(ph_images, num_classes, global_pool=True, is_training=ph_is_training)"
   ]
  },
  {
   "cell_type": "code",
   "execution_count": 8,
   "metadata": {},
   "outputs": [],
   "source": [
    "bob.losses.sparse_softmax_cross_entropy(ph_labels, logits)\n",
    "total_loss = bob.losses.get_total_loss()\n",
    "optimizer = tf.train.MomentumOptimizer(learning_rate=learning_rate, momentum=0.9)\n",
    "train_op = bob.training.create_train_op(total_loss, optimizer, global_step=bob.variables.get_or_create_global_step())"
   ]
  },
  {
   "cell_type": "code",
   "execution_count": 9,
   "metadata": {},
   "outputs": [],
   "source": [
    "def feed_fn(sess):\n",
    "    cur_images, cur_labels = train_dataset.get_next_batch(sess)\n",
    "    result_dict = {ph_images: cur_images, ph_labels: cur_labels, ph_is_training: True}\n",
    "    return result_dict\n",
    "feed_fn_hook = bob.training_utils.FeedFnWithSessionHook(feed_fn)"
   ]
  },
  {
   "cell_type": "code",
   "execution_count": 10,
   "metadata": {},
   "outputs": [
    {
     "name": "stdout",
     "output_type": "stream",
     "text": [
      "INFO:tensorflow:Summary name metrics/mean/total_loss:0 is illegal; using metrics/mean/total_loss_0 instead.\n",
      "INFO:tensorflow:Summary name metrics/mean/accuracy/value:0 is illegal; using metrics/mean/accuracy/value_0 instead.\n"
     ]
    }
   ],
   "source": [
    "metric_accuracy, accuracy_update_op = tf.metrics.accuracy(ph_labels, tf.argmax(logits, 1))\n",
    "\n",
    "LOGS_DIR = \"/home/ubuntu/bob/Tensorbob/examples/dogbreed/logs\"\n",
    "metrics_dict = {total_loss: None, metric_accuracy: accuracy_update_op}\n",
    "metrics_epoch_hook = bob.training_utils.MetricsEpochMeanHook(metrics_dict, 20, LOGS_DIR)\n",
    "train_op = metrics_epoch_hook.wrap_train_op(train_op)"
   ]
  },
  {
   "cell_type": "code",
   "execution_count": 11,
   "metadata": {},
   "outputs": [],
   "source": [
    "logging_tensors = {\"total_loss\": total_loss}\n",
    "for metric in metrics_epoch_hook.metrics_sums:\n",
    "    logging_tensors[metric.name] = metric\n",
    "total_loss_logging_hook = tf.train.LoggingTensorHook(logging_tensors, every_n_iter=10)"
   ]
  },
  {
   "cell_type": "code",
   "execution_count": 12,
   "metadata": {},
   "outputs": [
    {
     "name": "stdout",
     "output_type": "stream",
     "text": [
      "epoch 1.0: \n",
      "metrics/mean/total_loss:0 7.0732\n",
      "metrics/mean/accuracy/value:0 0.0096\n",
      "epoch 2.0: \n",
      "metrics/mean/total_loss:0 7.0660\n",
      "metrics/mean/accuracy/value:0 0.0083\n",
      "epoch 3.0: \n",
      "metrics/mean/total_loss:0 7.0668\n",
      "metrics/mean/accuracy/value:0 0.0075\n",
      "epoch 4.0: \n",
      "metrics/mean/total_loss:0 7.0610\n",
      "metrics/mean/accuracy/value:0 0.0085\n"
     ]
    }
   ],
   "source": [
    "bob.training.train(train_op, LOGS_DIR, hooks=[feed_fn_hook, metrics_epoch_hook], max_steps=80)"
   ]
  },
  {
   "cell_type": "code",
   "execution_count": null,
   "metadata": {},
   "outputs": [],
   "source": []
  }
 ],
 "metadata": {
  "kernelspec": {
   "display_name": "Python 3",
   "language": "python",
   "name": "python3"
  },
  "language_info": {
   "codemirror_mode": {
    "name": "ipython",
    "version": 3
   },
   "file_extension": ".py",
   "mimetype": "text/x-python",
   "name": "python",
   "nbconvert_exporter": "python",
   "pygments_lexer": "ipython3",
   "version": "3.6.4"
  }
 },
 "nbformat": 4,
 "nbformat_minor": 2
}
